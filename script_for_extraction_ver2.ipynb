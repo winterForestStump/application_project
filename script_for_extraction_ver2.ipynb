{
  "cells": [
    {
      "cell_type": "markdown",
      "metadata": {
        "id": "view-in-github",
        "colab_type": "text"
      },
      "source": [
        "<a href=\"https://colab.research.google.com/github/winterForestStump/application_project/blob/main/script_for_extraction_ver2.ipynb\" target=\"_parent\"><img src=\"https://colab.research.google.com/assets/colab-badge.svg\" alt=\"Open In Colab\"/></a>"
      ]
    },
    {
      "cell_type": "markdown",
      "metadata": {
        "id": "gpk8_aE6hpAv"
      },
      "source": [
        "# Script for pictures extraction and manipulation"
      ]
    },
    {
      "cell_type": "markdown",
      "metadata": {
        "id": "2IKOaZnQhpAy"
      },
      "source": [
        "### 1. Counting number of zip folders inside the folders for each gate:"
      ]
    },
    {
      "cell_type": "markdown",
      "metadata": {
        "id": "fOn2aLSDhpAz"
      },
      "source": [
        "Since each zip folder represents a vehicle, whick went through the gate, we can estimate the number of pictures"
      ]
    },
    {
      "cell_type": "code",
      "execution_count": null,
      "metadata": {
        "id": "HCRXMjGUhpA0"
      },
      "outputs": [],
      "source": [
        "import os\n",
        "\n",
        "def count_zip_folders(path):\n",
        "    ''' Function for counting number of zip folders'''\n",
        "    # Count the number of zip folders in the given path\n",
        "    zip_folder_count = 0\n",
        "    for subfolder_name in os.listdir(path):\n",
        "        subfolder_path = os.path.join(path, subfolder_name)\n",
        "        # Ignore any files that are not folders\n",
        "        if not os.path.isdir(subfolder_path):\n",
        "            continue\n",
        "        # Iterate through each zip file in the subfolder\n",
        "        for zip_file_name in os.listdir(subfolder_path):\n",
        "            # Ignore any files that are not zip files\n",
        "            if not zip_file_name.endswith('.zip'):\n",
        "                continue\n",
        "            # Increment the zip folder count\n",
        "            zip_folder_count += 1\n",
        "    # Return the number of zip folders\n",
        "    return zip_folder_count"
      ]
    },
    {
      "cell_type": "code",
      "execution_count": null,
      "metadata": {
        "id": "kedRrC4GhpA3",
        "outputId": "2660fb33-43a8-4bed-ced8-e4834061bad6"
      },
      "outputs": [
        {
          "name": "stdout",
          "output_type": "stream",
          "text": [
            "Number of zip folders in 'D:\\ICG01': 174853\n"
          ]
        }
      ],
      "source": [
        "path = 'D:\\\\ICG01'\n",
        "zip_folder_count = count_zip_folders(path)\n",
        "print(f\"Number of zip folders in '{path}': {zip_folder_count}\")"
      ]
    },
    {
      "cell_type": "code",
      "execution_count": null,
      "metadata": {
        "id": "LYRpmiE1hpA5",
        "outputId": "52aa9c52-108e-4654-a237-613433e0af18"
      },
      "outputs": [
        {
          "name": "stdout",
          "output_type": "stream",
          "text": [
            "Number of zip folders in 'D:\\ICG02': 115552\n"
          ]
        }
      ],
      "source": [
        "path = 'D:\\\\ICG02'\n",
        "zip_folder_count = count_zip_folders(path)\n",
        "print(f\"Number of zip folders in '{path}': {zip_folder_count}\")"
      ]
    },
    {
      "cell_type": "code",
      "execution_count": null,
      "metadata": {
        "id": "gx8EzETDhpA6",
        "outputId": "36ff7757-4e79-43fa-f7c4-b5baa9508b86"
      },
      "outputs": [
        {
          "name": "stdout",
          "output_type": "stream",
          "text": [
            "Number of zip folders in 'D:\\OCG01': 162422\n"
          ]
        }
      ],
      "source": [
        "path = 'D:\\\\OCG01'\n",
        "zip_folder_count = count_zip_folders(path)\n",
        "print(f\"Number of zip folders in '{path}': {zip_folder_count}\")"
      ]
    },
    {
      "cell_type": "code",
      "execution_count": null,
      "metadata": {
        "id": "O3U-UnkFhpA8",
        "outputId": "b0ed9830-ee99-4712-8e97-2858d4a7fafb"
      },
      "outputs": [
        {
          "name": "stdout",
          "output_type": "stream",
          "text": [
            "Number of zip folders in 'D:\\OCG02': 121221\n"
          ]
        }
      ],
      "source": [
        "path = 'D:\\\\OCG02'\n",
        "zip_folder_count = count_zip_folders(path)\n",
        "print(f\"Number of zip folders in '{path}': {zip_folder_count}\")"
      ]
    },
    {
      "cell_type": "markdown",
      "metadata": {
        "id": "oN233fcPhpA9"
      },
      "source": [
        "At all we have 574 048 zip folders. Each represents the vehicle"
      ]
    },
    {
      "cell_type": "markdown",
      "metadata": {
        "id": "lxl2HD1dhpA9"
      },
      "source": [
        "Assuming that each zip folder contains about 40 photos, the total amount of data obtained is about 2.3 mln pictures"
      ]
    },
    {
      "cell_type": "markdown",
      "metadata": {
        "id": "N-qB3ZMyhpA-"
      },
      "source": [
        "### 2. Pictures extraction:"
      ]
    },
    {
      "cell_type": "markdown",
      "metadata": {
        "id": "Jo8HVv9BhpA-"
      },
      "source": [
        "Inside each zip folder there are photos of the vihecles from different angles and also some cutted pictures for number plates recognition. For future labeling we decided to use photos only from the back of the trucks."
      ]
    },
    {
      "cell_type": "code",
      "execution_count": null,
      "metadata": {
        "id": "1ztMxGIahpA-"
      },
      "outputs": [],
      "source": [
        "import os\n",
        "import shutil\n",
        "import zipfile\n",
        "\n",
        "def extract_pictures_from_zips(path, picture_names):\n",
        "    ''' Function for extracting pictures from the zip folders into the newly created folder 'extracted'. Photo name is an input '''\n",
        "    # Create a new folder named \"extracted\" if it doesn't exist already\n",
        "    extracted_folder_path = os.path.join(path, 'extracted')\n",
        "    os.makedirs(extracted_folder_path, exist_ok=True)\n",
        "    # Initialize list to keep track of bad zip files\n",
        "    bad_zip_files = []\n",
        "    # Iterate through each subfolder in the 'ICG01' folder\n",
        "    for subfolder_name in os.listdir(path):\n",
        "        subfolder_path = os.path.join(path, subfolder_name)\n",
        "        # Ignore any files that are not folders\n",
        "        if not os.path.isdir(subfolder_path):\n",
        "            continue\n",
        "        # Iterate through each zip file in the subfolder\n",
        "        for zip_file_name in os.listdir(subfolder_path):\n",
        "            # Ignore any files that are not zip files\n",
        "            if not zip_file_name.endswith('.zip'):\n",
        "                continue\n",
        "            try:\n",
        "                # Extract all files from the zip file to the 'extracted' folder\n",
        "                with zipfile.ZipFile(os.path.join(subfolder_path, zip_file_name), 'r') as zip_file:\n",
        "                    for file_name in zip_file.namelist():\n",
        "                        # Check if the file is one of the pictures you need\n",
        "                        if file_name in picture_names:\n",
        "                            # Extract the file to the 'extracted' folder with a new name\n",
        "                            new_file_name = os.path.splitext(zip_file_name)[0] + '_' + file_name\n",
        "                            new_file_path = os.path.join(extracted_folder_path, new_file_name)\n",
        "                            with zip_file.open(file_name) as zip_file_contents, open(new_file_path, 'wb') as new_file:\n",
        "                                shutil.copyfileobj(zip_file_contents, new_file)\n",
        "            except zipfile.BadZipFile:\n",
        "                bad_zip_files.append(os.path.join(subfolder_name, zip_file_name))\n",
        "                continue\n",
        "    # Display bad zip files, if any\n",
        "    if bad_zip_files:\n",
        "        print(\"Warning: The following zip files were not able to be unzipped:\")\n",
        "        for file in bad_zip_files:\n",
        "            print(file)"
      ]
    },
    {
      "cell_type": "markdown",
      "metadata": {
        "id": "eClpdFOChpA_"
      },
      "source": [
        "Photos what we need have the name \"snapshot-chassis0-lsback-full.jpg\""
      ]
    },
    {
      "cell_type": "code",
      "execution_count": null,
      "metadata": {
        "id": "7XAw-48ShpA_",
        "outputId": "da71bf6c-78e3-442e-cfda-2e57825f8592"
      },
      "outputs": [
        {
          "name": "stdout",
          "output_type": "stream",
          "text": [
            "Warning: The following zip files were not able to be unzipped:\n",
            "20220212\\LHG--ICG02-20220212-190956-736868.zip\n",
            "20220212\\LHG--ICG02-20220212-190637-736867.zip\n",
            "20220802\\LHG--ICG02-20220802-140806-793736.zip\n"
          ]
        }
      ],
      "source": [
        "path = 'D:\\\\ICG02'\n",
        "picture_names = ['snapshot-chassis0-lsback-full.jpg']\n",
        "extract_pictures_from_zips(path, picture_names)"
      ]
    },
    {
      "cell_type": "code",
      "execution_count": null,
      "metadata": {
        "id": "su5WMYQBhpBA",
        "outputId": "bb4685a8-3b4b-43f4-c94b-1484d79063cb"
      },
      "outputs": [
        {
          "name": "stdout",
          "output_type": "stream",
          "text": [
            "Warning: The following zip files were not able to be unzipped:\n",
            "20220214\\LHG--ICG01-20220214-202945-958525.zip\n",
            "20220908\\LHG--ICG01-20220908-113025-1059166.zip\n"
          ]
        }
      ],
      "source": [
        "path = 'D:\\\\ICG01'\n",
        "picture_names = ['snapshot-chassis0-lsback-full.jpg']\n",
        "extract_pictures_from_zips(path, picture_names)"
      ]
    },
    {
      "cell_type": "code",
      "execution_count": null,
      "metadata": {
        "id": "xF8jWmdGhpBA",
        "outputId": "8cf9fd7b-88ef-4af8-8f84-b2c1970e1fc8"
      },
      "outputs": [
        {
          "name": "stdout",
          "output_type": "stream",
          "text": [
            "Warning: The following zip files were not able to be unzipped:\n",
            "20220519\\LHG--OCG01-20220519-111715-877941.zip\n",
            "20220907\\LHG--OCG01-20220907-064128-925695.zip\n"
          ]
        }
      ],
      "source": [
        "path = 'D:\\\\OCG01'\n",
        "picture_names = ['snapshot-chassis0-lsback-full.jpg']\n",
        "extract_pictures_from_zips(path, picture_names)"
      ]
    },
    {
      "cell_type": "markdown",
      "metadata": {
        "id": "_zzr9YkyhpBB"
      },
      "source": [
        "Total time for code running - 1271 min (22 hours) :\n",
        "\n",
        "* 'ICG01' - 445 min,\n",
        "* 'ICG02' - 145 min,\n",
        "* 'OCG01' - 383 min,\n",
        "* 'OCG02' - 298 min"
      ]
    },
    {
      "cell_type": "markdown",
      "metadata": {
        "id": "qKdDQSsohpBB"
      },
      "source": [
        "Some of the zip folders (7 in total) had issues and were not be able to open"
      ]
    },
    {
      "cell_type": "markdown",
      "metadata": {
        "id": "ha2BNfZShpBB"
      },
      "source": [
        "### 3. Clean the datd: finding zip folder names with only photos of truck inside"
      ]
    },
    {
      "cell_type": "markdown",
      "metadata": {
        "id": "C_e0CozrhpBB"
      },
      "source": [
        "Number of pictures is about 500K, which is a lot. We need somehow reduce them. One of the ways to filter them out is to extract pictures of only trucks. The zip folders with trucks pictures contain inside the photos with the names 'snapshot-chassis0-lsback-ocr-dcocr1.jpg' (for ICG folders) and 'snapshot-chassis0-lsback-ocr-cocr0.jpg' (for OCG folders)"
      ]
    },
    {
      "cell_type": "code",
      "execution_count": null,
      "metadata": {
        "id": "FluV4XCHhpBB"
      },
      "outputs": [],
      "source": [
        "import os\n",
        "import zipfile\n",
        "\n",
        "def get_zip_folder_names_with_picture(path):\n",
        "    \"\"\" Picks the names of zip folders which consist picture with the specific name inside \"\"\"\n",
        "    # Set the name of the picture you need\n",
        "    picture_name = 'snapshot-chassis0-lsback-ocr-dcocr1.jpg'\n",
        "    # Create an empty list to hold zip folder names that contain the specified picture file\n",
        "    zip_folder_names = []\n",
        "    # Iterate through each 'YYYYMMDD' folder in the path\n",
        "    for yyyymmdd_folder_name in os.listdir(path):\n",
        "        yyyymmdd_folder_path = os.path.join(path, yyyymmdd_folder_name)\n",
        "        # Ignore any files that are not folders\n",
        "        if not os.path.isdir(yyyymmdd_folder_path):\n",
        "            continue\n",
        "        # Iterate through each zip file in the 'YYYYMMDD' folder\n",
        "        for zip_file_name in os.listdir(yyyymmdd_folder_path):\n",
        "        # Ignore any files that are not zip files\n",
        "            if not zip_file_name.endswith('.zip'):\n",
        "                continue\n",
        "            # Check if the zip file contains the specified picture file\n",
        "            try:\n",
        "                with zipfile.ZipFile(os.path.join(yyyymmdd_folder_path, zip_file_name), 'r') as zip_file:\n",
        "                    if picture_name in zip_file.namelist():\n",
        "                        # If we reach this point, it means the zip file contains the specified picture file\n",
        "                        # Add the zip folder name to the list\n",
        "                        zip_folder_names.append(zip_file_name.split('.')[0])\n",
        "            except zipfile.BadZipFile:\n",
        "                continue\n",
        "    # Display bad zip files, if any\n",
        "    bad_zip_files = []\n",
        "    if bad_zip_files:\n",
        "        print(\"Warning: The following zip files were not able to be unzipped:\")\n",
        "        for zip_file in bad_zip_files:\n",
        "            print(zip_file)\n",
        "    # Return the list of zip folder names that contain the specified picture file\n",
        "    return zip_folder_names"
      ]
    },
    {
      "cell_type": "markdown",
      "metadata": {
        "id": "QiBl5fchhpBC"
      },
      "source": [
        "For the \"ICG02\" folder:"
      ]
    },
    {
      "cell_type": "code",
      "execution_count": null,
      "metadata": {
        "id": "FAzcJG5vhpBC",
        "outputId": "53ca69fc-f212-46e9-c07e-c90880c57bce"
      },
      "outputs": [
        {
          "name": "stdout",
          "output_type": "stream",
          "text": [
            "72961\n"
          ]
        }
      ],
      "source": [
        "path = 'D:\\\\ICG02'\n",
        "zip_folder_names = get_zip_folder_names_with_picture(path)\n",
        "print(len(zip_folder_names))"
      ]
    },
    {
      "cell_type": "markdown",
      "metadata": {
        "id": "3-8NA_2YhpBD"
      },
      "source": [
        "Save the names of the pictures in the txt file"
      ]
    },
    {
      "cell_type": "code",
      "execution_count": null,
      "metadata": {
        "id": "aEzhTw-OhpBD"
      },
      "outputs": [],
      "source": [
        "my_list_ICG02 = zip_folder_names\n",
        "# Define the file name\n",
        "file_name = \"ICG02_list.txt\"\n",
        "# Open the file in write mode\n",
        "with open(file_name, mode='w') as file:\n",
        "    # Write each string from the list as a new line in the text file\n",
        "    for string in my_list_ICG02:\n",
        "        file.write(string + \"\\n\")\n"
      ]
    },
    {
      "cell_type": "markdown",
      "metadata": {
        "id": "plluJIF4hpBD"
      },
      "source": [
        "For the \"OCG01\" folder"
      ]
    },
    {
      "cell_type": "markdown",
      "metadata": {
        "id": "ZypaIWcuhpBD"
      },
      "source": [
        "Inside zip folders for \"OCG01\" gate there are no pictures with the name 'snapshot-chassis0-lsback-ocr-dcocr1.jpg'. Instead there is a pattern: if the picture is a photo of a truck than there is a also a picture with the name 'snapshot-chassis0-lsback-ocr-cocr0.jpg'. We can use that"
      ]
    },
    {
      "cell_type": "code",
      "execution_count": null,
      "metadata": {
        "id": "xT0pTgbphpBD"
      },
      "outputs": [],
      "source": [
        "import os\n",
        "import zipfile\n",
        "\n",
        "def get_zip_folder_names_with_picture_ver2(path):\n",
        "    \"\"\" Picks the names of zip folders which consist picture with the specific name inside \"\"\"\n",
        "    # Set the name of the picture you need\n",
        "    picture_name = 'snapshot-chassis0-lsback-ocr-cocr0.jpg'\n",
        "    # Create an empty list to hold zip folder names that contain the specified picture file\n",
        "    zip_folder_names = []\n",
        "    # Iterate through each 'YYYYMMDD' folder in the path\n",
        "    for yyyymmdd_folder_name in os.listdir(path):\n",
        "        yyyymmdd_folder_path = os.path.join(path, yyyymmdd_folder_name)\n",
        "        # Ignore any files that are not folders\n",
        "        if not os.path.isdir(yyyymmdd_folder_path):\n",
        "            continue\n",
        "        # Iterate through each zip file in the 'YYYYMMDD' folder\n",
        "        for zip_file_name in os.listdir(yyyymmdd_folder_path):\n",
        "            # Ignore any files that are not zip files\n",
        "            if not zip_file_name.endswith('.zip'):\n",
        "                continue\n",
        "            # Check if the zip file contains the specified picture file\n",
        "            try:\n",
        "                with zipfile.ZipFile(os.path.join(yyyymmdd_folder_path, zip_file_name), 'r') as zip_file:\n",
        "                    if picture_name in zip_file.namelist():\n",
        "                        # If we reach this point, it means the zip file contains the specified picture file\n",
        "                        # Add the zip folder name to the list\n",
        "                        zip_folder_names.append(zip_file_name.split('.')[0])\n",
        "            except zipfile.BadZipFile:\n",
        "                continue\n",
        "    # Display bad zip files, if any\n",
        "    bad_zip_files = []\n",
        "    if bad_zip_files:\n",
        "        print(\"Warning: The following zip files were not able to be unzipped:\")\n",
        "        for zip_file in bad_zip_files:\n",
        "            print(zip_file)\n",
        "    # Return the list of zip folder names that contain the specified picture file\n",
        "    return zip_folder_names"
      ]
    },
    {
      "cell_type": "code",
      "execution_count": null,
      "metadata": {
        "id": "iKmnvj52hpBE",
        "outputId": "c20967c4-df89-48c1-e8ee-e8e7bd6a8a98"
      },
      "outputs": [
        {
          "name": "stdout",
          "output_type": "stream",
          "text": [
            "96877\n"
          ]
        }
      ],
      "source": [
        "path = 'D:\\\\OCG01'\n",
        "zip_folder_names = get_zip_folder_names_with_picture_ver2(path)\n",
        "print(len(zip_folder_names))"
      ]
    },
    {
      "cell_type": "markdown",
      "metadata": {
        "id": "lyGmkxqNhpBE"
      },
      "source": [
        "Save the names of the pictures in the txt file"
      ]
    },
    {
      "cell_type": "code",
      "execution_count": null,
      "metadata": {
        "id": "naSEQHMAhpBE"
      },
      "outputs": [],
      "source": [
        "my_list_OCG01 = zip_folder_names\n",
        "# Define the file name\n",
        "file_name = \"OCG01_list.txt\"\n",
        "# Open the file in write mode\n",
        "with open(file_name, mode='w') as file:\n",
        "    # Write each string from the list as a new line in the text file\n",
        "    for string in my_list_OCG01:\n",
        "        file.write(string + \"\\n\")"
      ]
    },
    {
      "cell_type": "markdown",
      "metadata": {
        "id": "uLG0B7BDhpBF"
      },
      "source": [
        "For the \"OCG02\" folder"
      ]
    },
    {
      "cell_type": "code",
      "execution_count": null,
      "metadata": {
        "id": "pOMYerXOhpBF",
        "outputId": "2a95bc69-0bb3-47c0-fc4b-7ba28c0fd26f"
      },
      "outputs": [
        {
          "name": "stdout",
          "output_type": "stream",
          "text": [
            "67628\n"
          ]
        }
      ],
      "source": [
        "path = 'D:\\\\OCG02'\n",
        "zip_folder_names = get_zip_folder_names_with_picture_ver2(path)\n",
        "print(len(zip_folder_names))"
      ]
    },
    {
      "cell_type": "markdown",
      "metadata": {
        "id": "Sp_LcFAxhpBF"
      },
      "source": [
        "Save the names of the pictures in the txt file"
      ]
    },
    {
      "cell_type": "code",
      "execution_count": null,
      "metadata": {
        "id": "RF0eOjachpBF"
      },
      "outputs": [],
      "source": [
        "my_list_OCG02 = zip_folder_names\n",
        "# Define the file name\n",
        "file_name = \"OCG02_list.txt\"\n",
        "# Open the file in write mode\n",
        "with open(file_name, mode='w') as file:\n",
        "    # Write each string from the list as a new line in the text file\n",
        "    for string in my_list_OCG02:\n",
        "        file.write(string + \"\\n\")"
      ]
    },
    {
      "cell_type": "markdown",
      "metadata": {
        "id": "Mt8qFmc9hpBF"
      },
      "source": [
        "For the \"ICG01\" folder:"
      ]
    },
    {
      "cell_type": "code",
      "execution_count": null,
      "metadata": {
        "id": "RLkqypbthpBG",
        "outputId": "a370e6d1-2636-4239-b0e1-e7764699476e"
      },
      "outputs": [
        {
          "name": "stdout",
          "output_type": "stream",
          "text": [
            "101444\n"
          ]
        }
      ],
      "source": [
        "path = 'D:\\\\ICG01'\n",
        "zip_folder_names = get_zip_folder_names_with_picture(path)\n",
        "print(len(zip_folder_names))"
      ]
    },
    {
      "cell_type": "markdown",
      "metadata": {
        "id": "7lU5PvvShpBG"
      },
      "source": [
        "Save the names of the pictures in the txt file"
      ]
    },
    {
      "cell_type": "code",
      "execution_count": null,
      "metadata": {
        "id": "sCmw943ChpBM"
      },
      "outputs": [],
      "source": [
        "my_list_ICG01 = zip_folder_names\n",
        "# Define the file name\n",
        "file_name = \"ICG01_list.txt\"\n",
        "# Open the file in write mode\n",
        "with open(file_name, mode='w') as file:\n",
        "    # Write each string from the list as a new line in the text file\n",
        "    for string in my_list_ICG01:\n",
        "        file.write(string + \"\\n\")"
      ]
    },
    {
      "cell_type": "code",
      "execution_count": null,
      "metadata": {
        "id": "QPCYP93phpBM",
        "outputId": "beec47d1-cded-4444-d86f-062e1bf49b1e"
      },
      "outputs": [
        {
          "name": "stdout",
          "output_type": "stream",
          "text": [
            " Total amount of photos are 338910\n"
          ]
        }
      ],
      "source": [
        "print(f' Total amount of photos are {72961+96877+67628+101444}')"
      ]
    },
    {
      "cell_type": "markdown",
      "metadata": {
        "id": "VrXthAv8hpBN"
      },
      "source": [
        "Overall amount of truck images are 338 910. We will work with them"
      ]
    },
    {
      "cell_type": "markdown",
      "metadata": {
        "id": "Y3ZtKXQehpBN"
      },
      "source": [
        "### 4. Concatenate all exctracted pictures inside one folder:"
      ]
    },
    {
      "cell_type": "code",
      "execution_count": null,
      "metadata": {
        "id": "NBN-OHYkhpBO"
      },
      "outputs": [],
      "source": [
        "# VERY SLOW\n",
        "import os\n",
        "import shutil\n",
        "\n",
        "# Set the source paths\n",
        "source_paths = [\n",
        "    'D:\\\\ICG01\\\\extracted',\n",
        "    'D:\\\\ICG02\\\\extracted',\n",
        "    'D:\\\\OCG01\\\\extracted',\n",
        "    'D:\\\\OCG02\\\\extracted']\n",
        "# Set the destination path\n",
        "destination_path = 'D:\\\\Extracted_ALL'\n",
        "# Create the destination folder if it doesn't exist\n",
        "os.makedirs(destination_path, exist_ok=True)\n",
        "# Move all the image files from the source folders to the destination folder\n",
        "for source_path in source_paths:\n",
        "    for root, dirs, files in os.walk(source_path):\n",
        "        for file in files:\n",
        "            if file.endswith('.jpg'):\n",
        "                file_path = os.path.join(root, file)\n",
        "                shutil.move(file_path, destination_path)"
      ]
    },
    {
      "cell_type": "markdown",
      "metadata": {
        "id": "mnNcqzCuhpBO"
      },
      "source": [
        "### 5. Matching extracted pictures names with TXT file"
      ]
    },
    {
      "cell_type": "markdown",
      "metadata": {
        "id": "tPIC2BjthpBO"
      },
      "source": [
        "For labeling we need only pictures with trucks. So we need to match extracted pictures with the TXT names to take them to label"
      ]
    },
    {
      "cell_type": "code",
      "execution_count": null,
      "metadata": {
        "id": "eLoPWl4DhpBO"
      },
      "outputs": [],
      "source": [
        "import os\n",
        "import shutil\n",
        "\n",
        "# Define the path to the folder containing the pictures\n",
        "pictures_folder = \"D:\\\\OCG01\\\\extracted\"\n",
        "# Define the path to the text file containing the names to match\n",
        "text_file = \"OCG01_list.txt\"\n",
        "# Define the name of the new folder to copy the matching pictures to\n",
        "new_folder = \"D:\\\\OCG01\\\\extracted\\\\TRUCKS\"\n",
        "# Create the new folder if it doesn't exist\n",
        "if not os.path.exists(new_folder):\n",
        "    os.mkdir(new_folder)\n",
        "# Read the first 100 lines of the text file\n",
        "with open(text_file, \"r\") as f:\n",
        "    lines = f.readlines()[50000:72962] #extracting by batches\n",
        "# Iterate over the lines and try to find matching picture files\n",
        "for line in lines:\n",
        "    name_to_match = line.strip()  # remove any trailing newline or whitespace characters\n",
        "    for filename in os.listdir(pictures_folder):\n",
        "        if name_to_match in filename:\n",
        "            # If a matching picture file is found, copy it to the new folder\n",
        "            shutil.copy2(os.path.join(pictures_folder, filename), os.path.join(new_folder, filename))"
      ]
    },
    {
      "cell_type": "markdown",
      "metadata": {
        "id": "fqW4JtVThpBP"
      },
      "source": [
        "### 6.  Find pictures from excel file"
      ]
    },
    {
      "cell_type": "markdown",
      "metadata": {
        "id": "vieFNrVihpBP"
      },
      "source": [
        "We received Excel file with some more information. We tryed to get info about the trucks and signs from the excel file. But the results we received were not usefull: failed to match the information from the received photos with the data from the file. Also the data in the file is not accurate"
      ]
    },
    {
      "cell_type": "code",
      "execution_count": null,
      "metadata": {
        "id": "tYz2Ha6KhpBP"
      },
      "outputs": [],
      "source": [
        "import os\n",
        "import pandas as pd\n",
        "Excel_dates_and_clases = pd.read_csv('Excel_dates_and_clases.csv')\n",
        "# define the directory where the JPG files are located\n",
        "jpg_dir = 'path_to_directory\\TRUCKS_TO_LABEL_p1\\\\1'\n",
        "# list all the files in the directory\n",
        "files = os.listdir(jpg_dir)\n",
        "# filter the JPG files based on the values in the 'amgate_d' column\n",
        "jpg_files = []\n",
        "for f in files:\n",
        "    if f.endswith('.jpg') and 'LHG--ICG02-' in f:\n",
        "        # extract the value we're searching for from the filename\n",
        "        value = f.split('LHG--ICG02-')[1][:13]\n",
        "        if any(val in value for val in Excel_dates_and_clases['amgate_d']):\n",
        "            jpg_files.append(f)\n",
        "# save the matched JPG file names to a text file\n",
        "with open('matched_jpg_files.txt', 'w') as file:\n",
        "    for f in jpg_files:\n",
        "        file.write(f + '\\n')"
      ]
    },
    {
      "cell_type": "markdown",
      "metadata": {
        "id": "oU5cCi3AhpBQ"
      },
      "source": [
        "### 7. Copy pictures which have the same name as TXT files with labels"
      ]
    },
    {
      "cell_type": "markdown",
      "metadata": {
        "id": "c1-fKk5dhpBQ"
      },
      "source": [
        "For the first model training try we need to extract pictures with the same names as from the TXT file"
      ]
    },
    {
      "cell_type": "code",
      "execution_count": null,
      "metadata": {
        "id": "VqEYeygIhpBQ"
      },
      "outputs": [],
      "source": [
        "import os\n",
        "import shutil\n",
        "\n",
        "src_folder = \"E:/ICG02/extracted\"\n",
        "dst_folder = \"E:/1stTRY\"\n",
        "labels_folder = \"E:/labels\"\n",
        "ignore_folder = \"TRUCKS\"\n",
        "# Iterate over files in labels folder\n",
        "for root, _, files in os.walk(labels_folder):\n",
        "    # Iterate over files in current folder\n",
        "    for file_name in files:\n",
        "        # Construct full path to label file and picture file\n",
        "        label_file = os.path.join(root, file_name)\n",
        "        picture_file = os.path.join(src_folder, os.path.splitext(file_name)[0] + \".jpg\")\n",
        "        # Check if picture file exists and is not in the \"TRUCKS\" folder\n",
        "        if os.path.isfile(picture_file) and ignore_folder not in picture_file:\n",
        "            # Construct full path to destination file\n",
        "            dst_file = os.path.join(dst_folder, os.path.basename(picture_file))\n",
        "            # Copy file to destination folder\n",
        "            shutil.copy(picture_file, dst_file)"
      ]
    }
  ],
  "metadata": {
    "kernelspec": {
      "display_name": "deep_learning_env",
      "language": "python",
      "name": "python3"
    },
    "language_info": {
      "codemirror_mode": {
        "name": "ipython",
        "version": 3
      },
      "file_extension": ".py",
      "mimetype": "text/x-python",
      "name": "python",
      "nbconvert_exporter": "python",
      "pygments_lexer": "ipython3",
      "version": "3.11.2"
    },
    "orig_nbformat": 4,
    "colab": {
      "provenance": [],
      "include_colab_link": true
    }
  },
  "nbformat": 4,
  "nbformat_minor": 0
}