{
 "cells": [
  {
   "attachments": {},
   "cell_type": "markdown",
   "metadata": {},
   "source": [
    "### Script that extract the specific pictures from your zip folders and move them to a new folder with the same name as the original one\n",
    "\n",
    "Steps:\n",
    "\n",
    "* setting the path to zipped folders and the name of pictures needed.\n",
    "* creating a new folder named \"extracted\" if it doesn't exist already.\n",
    "* iterating through each zip file in the path.\n",
    "* for each zip file, creating a new folder with the same name as the zip file inside the \"extracted\" folder.\n",
    "* extracting all files from the zip file to a temporary folder.\n",
    "* iterating through each file in the temporary folder and checking if the file is one of the pictures needed.\n",
    "* if the file is one of the pictures needed, copying the file to the new subfolder with the same name as the original zip file.\n",
    "* deleting the temporary folder."
   ]
  },
  {
   "cell_type": "code",
   "execution_count": 4,
   "metadata": {},
   "outputs": [],
   "source": [
    "import os\n",
    "import shutil\n",
    "import zipfile\n",
    "\n",
    "# Set the path to your zipped folders\n",
    "path = 'path_to_the_zipped_folders'\n",
    "\n",
    "# Set the names of the pictures you need\n",
    "picture_names = ['snapshot-chassis0-lsback-full.jpg', \n",
    "                 'snapshot-chassis0-lsback-ocr-dcocr1.jpg', \n",
    "                 'snapshot-chassis0-lsleft-full.jpg', \n",
    "                 'snapshot-chassis0-unit0-lsleft-ocr-dcocr1.jpg', \n",
    "                 'snapshot-chassis0-lsright-full.jpg', \n",
    "                 'snapshot-chassis0-unit0-lsright-ocr-dcocr1.jpg', \n",
    "                 'snapshot-chassis0-lsback-cutout-dcocr1.jpg', \n",
    "                 'snapshot-chassis0-unit0-lsleft-cutout-dcocr1.jpg', \n",
    "                 'snapshot-chassis0-unit0-lsright-cutout-dcocr1.jpg']\n",
    "\n",
    "# Create a new folder named \"extracted\" if it doesn't exist already\n",
    "extracted_folder_path = os.path.join(path, 'extracted')\n",
    "os.makedirs(extracted_folder_path, exist_ok=True)\n",
    "\n",
    "# Iterate through each zipped folder in the path\n",
    "for zip_file_name in os.listdir(path):\n",
    "    \n",
    "    # Ignore any non-zip files in the path\n",
    "    if not zip_file_name.endswith('.zip'):\n",
    "        continue\n",
    "    \n",
    "    # Create a new folder with the same name as the zip file inside the \"extracted\" folder\n",
    "    folder_name = os.path.splitext(zip_file_name)[0]\n",
    "    new_folder_path = os.path.join(extracted_folder_path, folder_name)\n",
    "    os.makedirs(new_folder_path, exist_ok=True)\n",
    "    \n",
    "    # Extract all files from the zip file to a temporary folder\n",
    "    with zipfile.ZipFile(os.path.join(path, zip_file_name), 'r') as zip_file:\n",
    "        zip_file.extractall(os.path.join(path, 'temp'))\n",
    "    \n",
    "    # Iterate through each file in the temporary folder\n",
    "    for file_name in os.listdir(os.path.join(path, 'temp')):\n",
    "        \n",
    "        # Check if the file is one of the pictures you need\n",
    "        if file_name in picture_names:\n",
    "            \n",
    "            # Copy the file to the new folder with the same name as the zip file\n",
    "            file_path = os.path.join(path, 'temp', file_name)\n",
    "            new_file_path = os.path.join(new_folder_path, file_name)\n",
    "            shutil.copyfile(file_path, new_file_path)\n",
    "    \n",
    "    # Delete the temporary folder\n",
    "    shutil.rmtree(os.path.join(path, 'temp'))\n"
   ]
  }
 ],
 "metadata": {
  "kernelspec": {
   "display_name": "deep_learning_env",
   "language": "python",
   "name": "python3"
  },
  "language_info": {
   "codemirror_mode": {
    "name": "ipython",
    "version": 3
   },
   "file_extension": ".py",
   "mimetype": "text/x-python",
   "name": "python",
   "nbconvert_exporter": "python",
   "pygments_lexer": "ipython3",
   "version": "3.11.2"
  },
  "orig_nbformat": 4
 },
 "nbformat": 4,
 "nbformat_minor": 2
}
